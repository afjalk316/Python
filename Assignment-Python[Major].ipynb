{
 "cells": [
  {
   "cell_type": "code",
   "execution_count": 1,
   "metadata": {},
   "outputs": [
    {
     "name": "stdout",
     "output_type": "stream",
     "text": [
      "<class 'int'> <class 'str'>\n"
     ]
    }
   ],
   "source": [
    "## 1.Find the datatype of these two declaration:\n",
    "\n",
    "x=5          ## int\n",
    "y=\"John\"     ## string\n",
    "\n",
    "print(type(x),type(y))"
   ]
  },
  {
   "cell_type": "code",
   "execution_count": null,
   "metadata": {},
   "outputs": [],
   "source": [
    "## 2.Check whether the following syntax is valid or invalid for naming a variable:\n",
    "\n",
    "3a=10        ## Invalid syntax\n",
    "\n",
    "@abc=10      ## Invalid syntax\n",
    "\n",
    "a100=100     ## Valid syntax\n",
    "\n",
    "_a984_=100   ## Valid syntax\n",
    "\n",
    "a9967$=100   ## Invalid syntax\n",
    "\n",
    "xyz-2=100    ## Invalid syntax"
   ]
  },
  {
   "cell_type": "code",
   "execution_count": null,
   "metadata": {},
   "outputs": [],
   "source": [
    "## 3.Check if element exists in list in Python:\n",
    "\n",
    "list=test_list=[1,6,3,5,3,4]\n",
    "\n",
    "## 1.Check if 3 exist or not.\n",
    "\n",
    "if 3 in list:\n",
    "    print(\"Yes exist\")\n",
    "else:\n",
    "    print(\"Not exist\")\n",
    "\n",
    "## 2.Check if 9 exists or not.\n",
    "\n",
    "if 9 in list:\n",
    "    print(\"Yes exist\")\n",
    "else:\n",
    "    print(\"Not exist\")\n"
   ]
  },
  {
   "cell_type": "code",
   "execution_count": null,
   "metadata": {},
   "outputs": [],
   "source": [
    "## 4.Take the user input to print the current date:\n",
    "\n",
    "from datetime import date\n",
    "\n",
    "a=int(input(\"Press '1' for current date: \"))\n",
    "\n",
    "if a==1:\n",
    "    print(date.today())\n",
    "else:\n",
    "    print(\"Wrong input Try again!\")"
   ]
  },
  {
   "cell_type": "code",
   "execution_count": 2,
   "metadata": {},
   "outputs": [
    {
     "name": "stdout",
     "output_type": "stream",
     "text": [
      "4\n",
      "1\n"
     ]
    }
   ],
   "source": [
    "## 5.what is the output of the following code:\n",
    "\n",
    "## a. print 9//2\n",
    "a=9\n",
    "b=2\n",
    "print(a//b)    ## output= 4\n",
    "\n",
    "## b. print 9%2\n",
    "\n",
    "print(a%b)    ## output= 1"
   ]
  },
  {
   "cell_type": "code",
   "execution_count": null,
   "metadata": {},
   "outputs": [],
   "source": [
    "## 6. Print First 10 natural numbers using a while loop:\n",
    "\n",
    "n=1\n",
    "while n<=10:\n",
    "    print(n)\n",
    "    n+=1"
   ]
  },
  {
   "cell_type": "code",
   "execution_count": 1,
   "metadata": {},
   "outputs": [
    {
     "name": "stdout",
     "output_type": "stream",
     "text": [
      "Sum of number from 1 to 34 is = 595\n"
     ]
    }
   ],
   "source": [
    "## 7.Write a program to accept number from user and calculate the sum of all numbers from 1 to a given number:\n",
    "\n",
    "a=int(input(\"Enter the number up to which you want the sum satring from 1: \"))\n",
    "sum=0\n",
    "for i in range(1,(a+1)):\n",
    "    sum=sum+i\n",
    "print(f\"Sum of number from 1 to {a} is = {sum}\")"
   ]
  },
  {
   "cell_type": "code",
   "execution_count": null,
   "metadata": {},
   "outputs": [],
   "source": [
    "## 8.Write a Python program which iterates the integers from 1 to 50.For multiples of three print \"Fizz\" instead of thenumber and for the\n",
    "## multiples of five print \"Buzz\". For numbers which are multiples of both three and fiveprint\"FizzBuzz\" :\n",
    "\n",
    "for i in range(1,51):\n",
    "    if i%3==0 and i%5!=0:\n",
    "        print(\"Fizz\")\n",
    "    elif i%5==0 and i%3!=0:\n",
    "        print(\"Buzz\")\n",
    "    elif i%3==0 and i%5==0:\n",
    "        print(\"FizzBuzz\")\n",
    "    else:\n",
    "        print(i)\n"
   ]
  },
  {
   "cell_type": "code",
   "execution_count": null,
   "metadata": {},
   "outputs": [],
   "source": []
  }
 ],
 "metadata": {
  "kernelspec": {
   "display_name": "Python 3",
   "language": "python",
   "name": "python3"
  },
  "language_info": {
   "codemirror_mode": {
    "name": "ipython",
    "version": 3
   },
   "file_extension": ".py",
   "mimetype": "text/x-python",
   "name": "python",
   "nbconvert_exporter": "python",
   "pygments_lexer": "ipython3",
   "version": "3.11.2"
  },
  "orig_nbformat": 4
 },
 "nbformat": 4,
 "nbformat_minor": 2
}
